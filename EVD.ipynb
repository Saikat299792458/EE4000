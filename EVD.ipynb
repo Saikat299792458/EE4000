{
 "cells": [
  {
   "cell_type": "markdown",
   "id": "4fa34770",
   "metadata": {},
   "source": [
    "### Import Libraries"
   ]
  },
  {
   "cell_type": "code",
   "execution_count": null,
   "id": "fdf36216",
   "metadata": {},
   "outputs": [],
   "source": [
    "################################ Untested ########################################\n",
    "## Refer to Arnob_svd for librosa applications.\n",
    "import librosa\n",
    "import numpy as np\n",
    "import matplotlib.pyplot as plt\n",
    "%matplotlib inline\n",
    "plt.rcParams['figure.figsize'] = (10, 5)"
   ]
  },
  {
   "cell_type": "markdown",
   "id": "ae312139",
   "metadata": {},
   "source": [
    "### Load Audio File and Plot"
   ]
  },
  {
   "cell_type": "code",
   "execution_count": null,
   "id": "f1b06d13",
   "metadata": {},
   "outputs": [],
   "source": [
    "M = 30;    # window length = embedding dimension\n",
    "N = 200;   # length of generated time series\n",
    "T = 22;    # period length of sine function\n",
    "stdnoise = 1; # noise-to-signal ratio\n",
    "t = np.linspace(1, N, N)\n",
    "X = np.sin(2*np.pi*t/T);\n",
    "noise = stdnoise * np.random.randn(len(X))\n",
    "X = X + noise\n",
    "X = X - np.mean(X);            # remove mean value\n",
    "X = X/np.std(X);             # normalize to standard deviation 1\n",
    "\n",
    "plt.subplot(2,1,1)\n",
    "plt.title(\"Time Series X\")\n",
    "plt.plot(t, X, 'b-');"
   ]
  },
  {
   "cell_type": "markdown",
   "id": "2b8eb209",
   "metadata": {},
   "source": [
    "### Calculate Covariance Matrix"
   ]
  },
  {
   "cell_type": "code",
   "execution_count": null,
   "id": "af5b3139",
   "metadata": {},
   "outputs": [],
   "source": [
    "Y = np.zeros((N-M+1,M));\n",
    "for m in range(M):\n",
    "    Y[:, m] = X[m:N-M+m+1];\n",
    "C = Y.T @ Y / (N-M+1);\n",
    "\n",
    "\n",
    "fig, ax = plt.subplots()\n",
    "plt.title('Covariance matrix');\n",
    "plt.imshow(C);\n",
    "#axis square\n",
    "plt.clim(-1, 1); # Set Color limit of colorbar\n",
    "plt.colorbar(); # Add colorbar\n",
    "plt.show()"
   ]
  },
  {
   "cell_type": "markdown",
   "id": "d37597f6",
   "metadata": {},
   "source": [
    "### Eigen Values and Eigen Vectors"
   ]
  },
  {
   "cell_type": "code",
   "execution_count": null,
   "id": "470d7cae",
   "metadata": {},
   "outputs": [],
   "source": [
    "LAMBDA,RHO = np.linalg.eig(C);\n",
    "SI = np.flip(np.argsort(LAMBDA))\n",
    "LAMBDA = LAMBDA[SI]\n",
    "RHO = RHO[:, SI];\n",
    "\n",
    "\n",
    "plt.title('Eigenvectors RHO and eigenvalues LAMBDA')\n",
    "plt.subplot(3,1,1);\n",
    "plt.plot(LAMBDA,'o-');\n",
    "plt.subplot(3,1,2);\n",
    "plt.plot(RHO[:,0], '-', label='1');\n",
    "plt.plot(RHO[:,1], '-', label='2');\n",
    "plt.legend();\n",
    "plt.subplot(3,1,3);\n",
    "plt.plot(RHO[:,2], '-', label='3');\n",
    "plt.plot(RHO[:,3], '-', label='4');\n",
    "plt.legend();\n",
    "plt.tight_layout()"
   ]
  },
  {
   "cell_type": "markdown",
   "id": "49cd416c",
   "metadata": {},
   "source": [
    "### Principle Components"
   ]
  },
  {
   "cell_type": "code",
   "execution_count": null,
   "id": "38a260b0",
   "metadata": {},
   "outputs": [],
   "source": [
    "PC = Y @ RHO\n",
    "\n",
    "plt.title('Principal components PCs')\n",
    "for m in range(4):\n",
    "    plt.subplot(4,1,m + 1);\n",
    "    plt.plot(t[0:N-M+1],PC[:,m],'k-');\n",
    "    plt.ylabel(f'PC {m + 1}');\n",
    "    plt.ylim(-10, 10);\n",
    "plt.tight_layout()"
   ]
  },
  {
   "cell_type": "markdown",
   "id": "187e3a50",
   "metadata": {},
   "source": [
    "### Reconstructed Components"
   ]
  },
  {
   "cell_type": "code",
   "execution_count": null,
   "id": "c229f50c",
   "metadata": {},
   "outputs": [],
   "source": [
    "RC = np.zeros((N,M))\n",
    "for m in range(M):\n",
    "    b = np.array([PC[:,m]])\n",
    "    c = np.array([RHO[:,m]])\n",
    "    buf = b.T @ c # invert projection\n",
    "    buf = np.flipud(buf);\n",
    "    for n in range(N): # anti-diagonal averaging\n",
    "        RC[n,m] = np.mean(np.diag(buf,-N+M+n));\n",
    "\n",
    "\n",
    "plt.title('Reconstructed components RCs')\n",
    "for m in range(4):\n",
    "    plt.subplot(4,1,m + 1);\n",
    "    plt.plot(t,RC[:,m],'r-');\n",
    "    plt.ylabel(f'RC {m + 1}');\n",
    "    plt.ylim(-1,1);\n",
    "plt.tight_layout();"
   ]
  },
  {
   "cell_type": "markdown",
   "id": "05997541",
   "metadata": {},
   "source": [
    "### Compare with the Original"
   ]
  },
  {
   "cell_type": "code",
   "execution_count": null,
   "id": "ef4f387f",
   "metadata": {},
   "outputs": [],
   "source": [
    "plt.title('Original time series X and reconstruction RC')\n",
    "plt.subplot(2,1,1)\n",
    "plt.plot(t,X,'b-',label = 'Original');\n",
    "plt.plot(t,np.sum(RC[:,:],1),'r-', label = 'Complete reconstruction');\n",
    "plt.legend();\n",
    "\n",
    "plt.subplot(2,1,2)\n",
    "plt.plot(t,X,'b',linewidth = 2);\n",
    "plt.plot(t,X,'b-',label = 'Original');\n",
    "plt.plot(t,np.sum(RC[:,1:2],1),'r-', label = 'Reconstruction with RCs 1-2');\n",
    "plt.legend();\n",
    "plt.tight_layout()"
   ]
  },
  {
   "cell_type": "markdown",
   "id": "07c8badf",
   "metadata": {},
   "source": [
    "### Save Audio File"
   ]
  },
  {
   "cell_type": "code",
   "execution_count": null,
   "id": "50ce282e",
   "metadata": {},
   "outputs": [],
   "source": []
  }
 ],
 "metadata": {
  "kernelspec": {
   "display_name": "Python 3 (ipykernel)",
   "language": "python",
   "name": "python3"
  },
  "language_info": {
   "codemirror_mode": {
    "name": "ipython",
    "version": 3
   },
   "file_extension": ".py",
   "mimetype": "text/x-python",
   "name": "python",
   "nbconvert_exporter": "python",
   "pygments_lexer": "ipython3",
   "version": "3.10.1"
  }
 },
 "nbformat": 4,
 "nbformat_minor": 5
}
