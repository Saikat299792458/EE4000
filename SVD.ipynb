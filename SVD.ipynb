{
 "cells": [
  {
   "cell_type": "markdown",
   "id": "d427b6c7",
   "metadata": {},
   "source": [
    "### Import Libraries"
   ]
  },
  {
   "cell_type": "code",
   "execution_count": 1,
   "id": "675ee71e",
   "metadata": {},
   "outputs": [],
   "source": [
    "import librosa\n",
    "import matplotlib.pyplot as plt\n",
    "import numpy as np\n",
    "from scipy import signal\n",
    "import statsmodels.api as sm"
   ]
  },
  {
   "cell_type": "markdown",
   "id": "41e88265",
   "metadata": {},
   "source": [
    "### Anti-Diagonal Averaging Function"
   ]
  },
  {
   "cell_type": "code",
   "execution_count": null,
   "id": "a8943c4d",
   "metadata": {},
   "outputs": [],
   "source": [
    "def X_to_TS(X_i):\n",
    "    \"\"\"Averages the anti-diagonals of the given elementary matrix, X_i, and returns a time series.\"\"\"\n",
    "    # Reverse the column ordering of X_i\n",
    "    X_rev = X_i[::-1]\n",
    "    # Full credit to Mark Tolonen at https://stackoverflow.com/a/6313414 for this one:\n",
    "    return np.array([X_rev.diagonal(i).mean() for i in range(-X_i.shape[0]+1, X_i.shape[1])])"
   ]
  },
  {
   "cell_type": "markdown",
   "id": "25da4971",
   "metadata": {},
   "source": [
    "### Load Audio File and Plot"
   ]
  },
  {
   "cell_type": "code",
   "execution_count": null,
   "id": "d9c22c9d",
   "metadata": {},
   "outputs": [],
   "source": [
    "#filename = librosa.ex('sanak1.wav')\n",
    "y, sr = librosa.load('1.wav', sr=44100)\n",
    "t=np.linspace(0, (y.shape[0]-1),y.shape[0])/sr\n",
    "\n",
    "plt.plot(t,y)\n",
    "plt.show()"
   ]
  },
  {
   "cell_type": "markdown",
   "id": "aae18797",
   "metadata": {},
   "source": [
    "### Clip a Suitable Portion"
   ]
  },
  {
   "cell_type": "code",
   "execution_count": null,
   "id": "66d6178b",
   "metadata": {},
   "outputs": [],
   "source": [
    "# This part may not be requird.\n",
    "# If it's required, save the clipped portion in a separate audio file\n",
    "y_tran=y[0:5000]\n",
    "t_tran=t[0:5000]\n",
    "plt.plot(t_tran,y_tran)\n",
    "plt.show()"
   ]
  },
  {
   "cell_type": "markdown",
   "id": "c5f12e7f",
   "metadata": {},
   "source": [
    "### Hankel Matrix Representation"
   ]
  },
  {
   "cell_type": "code",
   "execution_count": null,
   "id": "1701741b",
   "metadata": {},
   "outputs": [],
   "source": [
    "N=y_tran.shape[0]\n",
    "L = 2000 # The window length.\n",
    "K = N - L + 1 # The number of columns in the trajectory matrix.\n",
    "# Create the trajectory matrix by pulling the relevant subseries of F, and stacking them as columns.\n",
    "audio_data = np.column_stack([y_tran[i:i+L] for i in range(0,K)])\n",
    "# Note: the i+L above gives us up to i+L-1, as numpy array upper bounds are exclusive."
   ]
  },
  {
   "cell_type": "markdown",
   "id": "e2328ac6",
   "metadata": {},
   "source": [
    "### Apply SVD and Calculate the Elementary Matrices"
   ]
  },
  {
   "cell_type": "code",
   "execution_count": 3,
   "id": "396f95c8",
   "metadata": {},
   "outputs": [],
   "source": [
    "d=10\n",
    "U, Sigma, V = np.linalg.svd(audio_data, full_matrices=False)\n",
    "V = V.T # Note: the SVD routine returns V^T, not V, so I'll tranpose it back here. This may seem pointless, \n",
    "# but I'll treat the Python representation of V consistently with the mathematical notation in this notebook.\n",
    "\n",
    "# Calculate the elementary matrices of X, storing them in a multidimensional NumPy array.\n",
    "# This requires calculating sigma_i * U_i * (V_i)^T for each i, or sigma_i * outer_product(U_i, V_i). \n",
    "# Note that Sigma is a 1D array of singular values, instead of the full L x K diagonal matrix.\n",
    "X_elem = np.array( [Sigma[i] * np.outer(U[:,i], V[:,i]) for i in range(0,d)] )"
   ]
  },
  {
   "cell_type": "markdown",
   "id": "5bacebcf",
   "metadata": {},
   "source": [
    "### Plot First Few Components"
   ]
  },
  {
   "cell_type": "code",
   "execution_count": null,
   "id": "1b65149e",
   "metadata": {},
   "outputs": [],
   "source": [
    "fig = plt.subplot()\n",
    "for i in range(d):\n",
    "    F_i = X_to_TS(X_elem[i])\n",
    "    fig.axes.plot(t_tran, F_i, lw=2)\n",
    "\n",
    "fig.axes.plot(t_tran, y_tran, alpha=1, lw=1)\n",
    "fig.set_xlabel(\"$t$\")\n",
    "fig.set_ylabel(r\"$\\tilde{F}_i(t)$\")\n",
    "legend = [r\"$\\tilde{F}_{%s}$\" %i for i in range(d)] + [\"$F$\"]\n",
    "fig.set_title(\"SVD decomposition\")\n",
    "fig.legend(legend, loc=(1.05,0.1));"
   ]
  },
  {
   "cell_type": "markdown",
   "id": "f6424f49",
   "metadata": {},
   "source": [
    "### Cross Correlate with Original"
   ]
  },
  {
   "cell_type": "code",
   "execution_count": null,
   "id": "951023c6",
   "metadata": {},
   "outputs": [],
   "source": [
    "fig = plt.subplot()\n",
    "for i in range(d):\n",
    "    F_i = X_to_TS(X_elem[i])\n",
    "    cross_corr=sm.tsa.stattools.ccf(y_tran, F_i, adjusted=False)\n",
    "    fig.axes.plot(t_tran, cross_corr, lw=2)\n",
    "    \n",
    "plt.show()"
   ]
  },
  {
   "cell_type": "markdown",
   "id": "a45f5072",
   "metadata": {},
   "source": [
    "### Reconstructed Components"
   ]
  },
  {
   "cell_type": "code",
   "execution_count": null,
   "id": "4806852f",
   "metadata": {},
   "outputs": [],
   "source": []
  },
  {
   "cell_type": "markdown",
   "id": "b7441032",
   "metadata": {},
   "source": [
    "### Compare with Original"
   ]
  },
  {
   "cell_type": "code",
   "execution_count": null,
   "id": "c220f976",
   "metadata": {},
   "outputs": [],
   "source": []
  },
  {
   "cell_type": "markdown",
   "id": "3c6bdb48",
   "metadata": {},
   "source": [
    "### Save Audio File"
   ]
  },
  {
   "cell_type": "code",
   "execution_count": null,
   "id": "9a18d971",
   "metadata": {},
   "outputs": [],
   "source": []
  }
 ],
 "metadata": {
  "kernelspec": {
   "display_name": "Python 3 (ipykernel)",
   "language": "python",
   "name": "python3"
  },
  "language_info": {
   "codemirror_mode": {
    "name": "ipython",
    "version": 3
   },
   "file_extension": ".py",
   "mimetype": "text/x-python",
   "name": "python",
   "nbconvert_exporter": "python",
   "pygments_lexer": "ipython3",
   "version": "3.10.1"
  }
 },
 "nbformat": 4,
 "nbformat_minor": 5
}
